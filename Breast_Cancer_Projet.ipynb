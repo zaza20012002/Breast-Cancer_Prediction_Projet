{
 "cells": [
  {
   "cell_type": "markdown",
   "id": "ecfd385a-76fd-4b87-b2d5-178f372f9b15",
   "metadata": {},
   "source": [
    "# Projet : Classification du Diagnostic du Cancer du Sein à l'Aide de Modèles de Machine Learning\n"
   ]
  },
  {
   "cell_type": "markdown",
   "id": "41dd12fd-4a41-4f01-9786-19523dada17b",
   "metadata": {},
   "source": [
    "### Réalisé par : ABRKAOUI ABDELLAH & CHRAMI ILYAS -- Filière IISE - Groupe 1"
   ]
  },
  {
   "cell_type": "markdown",
   "id": "b5abe73b-80d4-444b-88ae-b91175a6194f",
   "metadata": {},
   "source": [
    "## 1- Collection et Exploration des Données"
   ]
  },
  {
   "cell_type": "markdown",
   "id": "55d0eef3-21d8-4773-bbc3-83b7f2ebba0a",
   "metadata": {},
   "source": [
    "### a- l'importation des bibliothèques : pandas, numpy, matplotlib et seaborn"
   ]
  },
  {
   "cell_type": "code",
   "execution_count": 1,
   "id": "19d173be-f6a7-420e-ae0e-8bbe73897314",
   "metadata": {},
   "outputs": [],
   "source": [
    "import pandas as pd\n",
    "import numpy as np\n",
    "import matplotlib.pyplot as plt\n",
    "import seaborn as sns \n"
   ]
  },
  {
   "cell_type": "markdown",
   "id": "63c15500-9c51-46f6-8a51-4dc6b5ac6b4e",
   "metadata": {},
   "source": [
    "### b- lecture et Stockage des données de \"Breast Cancer\" à partir d'un fichier CSV dans un objet nommé \"data\"."
   ]
  },
  {
   "cell_type": "code",
   "execution_count": 2,
   "id": "f2ec53f8-376c-4c03-aafa-96e4566f291d",
   "metadata": {},
   "outputs": [
    {
     "data": {
      "text/plain": [
       "(569, 33)"
      ]
     },
     "execution_count": 2,
     "metadata": {},
     "output_type": "execute_result"
    }
   ],
   "source": [
    "data = pd.read_csv('Breast Cancer Wisconsin (Diagnostic) Data.csv')\n",
    "\n",
    "## savoir les dimensions de data\n",
    "data.shape # 569 lignes et 33 colonnes"
   ]
  },
  {
   "cell_type": "markdown",
   "id": "2f117cab-3011-4a19-95f1-148996e8764a",
   "metadata": {},
   "source": [
    "### c- affichage de premier 5 lignes de dataframe \"data\""
   ]
  },
  {
   "cell_type": "code",
   "execution_count": 3,
   "id": "96d062c3-f90a-4b3a-ab5d-8abc251b03dc",
   "metadata": {},
   "outputs": [
    {
     "data": {
      "text/html": [
       "<div>\n",
       "<style scoped>\n",
       "    .dataframe tbody tr th:only-of-type {\n",
       "        vertical-align: middle;\n",
       "    }\n",
       "\n",
       "    .dataframe tbody tr th {\n",
       "        vertical-align: top;\n",
       "    }\n",
       "\n",
       "    .dataframe thead th {\n",
       "        text-align: right;\n",
       "    }\n",
       "</style>\n",
       "<table border=\"1\" class=\"dataframe\">\n",
       "  <thead>\n",
       "    <tr style=\"text-align: right;\">\n",
       "      <th></th>\n",
       "      <th>id</th>\n",
       "      <th>diagnosis</th>\n",
       "      <th>radius_mean</th>\n",
       "      <th>texture_mean</th>\n",
       "      <th>perimeter_mean</th>\n",
       "      <th>area_mean</th>\n",
       "      <th>smoothness_mean</th>\n",
       "      <th>compactness_mean</th>\n",
       "      <th>concavity_mean</th>\n",
       "      <th>concave points_mean</th>\n",
       "      <th>...</th>\n",
       "      <th>texture_worst</th>\n",
       "      <th>perimeter_worst</th>\n",
       "      <th>area_worst</th>\n",
       "      <th>smoothness_worst</th>\n",
       "      <th>compactness_worst</th>\n",
       "      <th>concavity_worst</th>\n",
       "      <th>concave points_worst</th>\n",
       "      <th>symmetry_worst</th>\n",
       "      <th>fractal_dimension_worst</th>\n",
       "      <th>Unnamed: 32</th>\n",
       "    </tr>\n",
       "  </thead>\n",
       "  <tbody>\n",
       "    <tr>\n",
       "      <th>0</th>\n",
       "      <td>842302</td>\n",
       "      <td>M</td>\n",
       "      <td>17.99</td>\n",
       "      <td>10.38</td>\n",
       "      <td>122.80</td>\n",
       "      <td>1001.0</td>\n",
       "      <td>0.11840</td>\n",
       "      <td>0.27760</td>\n",
       "      <td>0.3001</td>\n",
       "      <td>0.14710</td>\n",
       "      <td>...</td>\n",
       "      <td>17.33</td>\n",
       "      <td>184.60</td>\n",
       "      <td>2019.0</td>\n",
       "      <td>0.1622</td>\n",
       "      <td>0.6656</td>\n",
       "      <td>0.7119</td>\n",
       "      <td>0.2654</td>\n",
       "      <td>0.4601</td>\n",
       "      <td>0.11890</td>\n",
       "      <td>NaN</td>\n",
       "    </tr>\n",
       "    <tr>\n",
       "      <th>1</th>\n",
       "      <td>842517</td>\n",
       "      <td>M</td>\n",
       "      <td>20.57</td>\n",
       "      <td>17.77</td>\n",
       "      <td>132.90</td>\n",
       "      <td>1326.0</td>\n",
       "      <td>0.08474</td>\n",
       "      <td>0.07864</td>\n",
       "      <td>0.0869</td>\n",
       "      <td>0.07017</td>\n",
       "      <td>...</td>\n",
       "      <td>23.41</td>\n",
       "      <td>158.80</td>\n",
       "      <td>1956.0</td>\n",
       "      <td>0.1238</td>\n",
       "      <td>0.1866</td>\n",
       "      <td>0.2416</td>\n",
       "      <td>0.1860</td>\n",
       "      <td>0.2750</td>\n",
       "      <td>0.08902</td>\n",
       "      <td>NaN</td>\n",
       "    </tr>\n",
       "    <tr>\n",
       "      <th>2</th>\n",
       "      <td>84300903</td>\n",
       "      <td>M</td>\n",
       "      <td>19.69</td>\n",
       "      <td>21.25</td>\n",
       "      <td>130.00</td>\n",
       "      <td>1203.0</td>\n",
       "      <td>0.10960</td>\n",
       "      <td>0.15990</td>\n",
       "      <td>0.1974</td>\n",
       "      <td>0.12790</td>\n",
       "      <td>...</td>\n",
       "      <td>25.53</td>\n",
       "      <td>152.50</td>\n",
       "      <td>1709.0</td>\n",
       "      <td>0.1444</td>\n",
       "      <td>0.4245</td>\n",
       "      <td>0.4504</td>\n",
       "      <td>0.2430</td>\n",
       "      <td>0.3613</td>\n",
       "      <td>0.08758</td>\n",
       "      <td>NaN</td>\n",
       "    </tr>\n",
       "    <tr>\n",
       "      <th>3</th>\n",
       "      <td>84348301</td>\n",
       "      <td>M</td>\n",
       "      <td>11.42</td>\n",
       "      <td>20.38</td>\n",
       "      <td>77.58</td>\n",
       "      <td>386.1</td>\n",
       "      <td>0.14250</td>\n",
       "      <td>0.28390</td>\n",
       "      <td>0.2414</td>\n",
       "      <td>0.10520</td>\n",
       "      <td>...</td>\n",
       "      <td>26.50</td>\n",
       "      <td>98.87</td>\n",
       "      <td>567.7</td>\n",
       "      <td>0.2098</td>\n",
       "      <td>0.8663</td>\n",
       "      <td>0.6869</td>\n",
       "      <td>0.2575</td>\n",
       "      <td>0.6638</td>\n",
       "      <td>0.17300</td>\n",
       "      <td>NaN</td>\n",
       "    </tr>\n",
       "    <tr>\n",
       "      <th>4</th>\n",
       "      <td>84358402</td>\n",
       "      <td>M</td>\n",
       "      <td>20.29</td>\n",
       "      <td>14.34</td>\n",
       "      <td>135.10</td>\n",
       "      <td>1297.0</td>\n",
       "      <td>0.10030</td>\n",
       "      <td>0.13280</td>\n",
       "      <td>0.1980</td>\n",
       "      <td>0.10430</td>\n",
       "      <td>...</td>\n",
       "      <td>16.67</td>\n",
       "      <td>152.20</td>\n",
       "      <td>1575.0</td>\n",
       "      <td>0.1374</td>\n",
       "      <td>0.2050</td>\n",
       "      <td>0.4000</td>\n",
       "      <td>0.1625</td>\n",
       "      <td>0.2364</td>\n",
       "      <td>0.07678</td>\n",
       "      <td>NaN</td>\n",
       "    </tr>\n",
       "  </tbody>\n",
       "</table>\n",
       "<p>5 rows × 33 columns</p>\n",
       "</div>"
      ],
      "text/plain": [
       "         id diagnosis  radius_mean  texture_mean  perimeter_mean  area_mean  \\\n",
       "0    842302         M        17.99         10.38          122.80     1001.0   \n",
       "1    842517         M        20.57         17.77          132.90     1326.0   \n",
       "2  84300903         M        19.69         21.25          130.00     1203.0   \n",
       "3  84348301         M        11.42         20.38           77.58      386.1   \n",
       "4  84358402         M        20.29         14.34          135.10     1297.0   \n",
       "\n",
       "   smoothness_mean  compactness_mean  concavity_mean  concave points_mean  \\\n",
       "0          0.11840           0.27760          0.3001              0.14710   \n",
       "1          0.08474           0.07864          0.0869              0.07017   \n",
       "2          0.10960           0.15990          0.1974              0.12790   \n",
       "3          0.14250           0.28390          0.2414              0.10520   \n",
       "4          0.10030           0.13280          0.1980              0.10430   \n",
       "\n",
       "   ...  texture_worst  perimeter_worst  area_worst  smoothness_worst  \\\n",
       "0  ...          17.33           184.60      2019.0            0.1622   \n",
       "1  ...          23.41           158.80      1956.0            0.1238   \n",
       "2  ...          25.53           152.50      1709.0            0.1444   \n",
       "3  ...          26.50            98.87       567.7            0.2098   \n",
       "4  ...          16.67           152.20      1575.0            0.1374   \n",
       "\n",
       "   compactness_worst  concavity_worst  concave points_worst  symmetry_worst  \\\n",
       "0             0.6656           0.7119                0.2654          0.4601   \n",
       "1             0.1866           0.2416                0.1860          0.2750   \n",
       "2             0.4245           0.4504                0.2430          0.3613   \n",
       "3             0.8663           0.6869                0.2575          0.6638   \n",
       "4             0.2050           0.4000                0.1625          0.2364   \n",
       "\n",
       "   fractal_dimension_worst  Unnamed: 32  \n",
       "0                  0.11890          NaN  \n",
       "1                  0.08902          NaN  \n",
       "2                  0.08758          NaN  \n",
       "3                  0.17300          NaN  \n",
       "4                  0.07678          NaN  \n",
       "\n",
       "[5 rows x 33 columns]"
      ]
     },
     "execution_count": 3,
     "metadata": {},
     "output_type": "execute_result"
    }
   ],
   "source": [
    "data.head()"
   ]
  },
  {
   "cell_type": "markdown",
   "id": "cd5d82e1-fb97-4d25-8fca-ff4bb25209f1",
   "metadata": {},
   "source": [
    "## 2- Prétraitement des Données"
   ]
  },
  {
   "cell_type": "markdown",
   "id": "b221b491-c75e-44c8-9fcd-e60a3aab50c1",
   "metadata": {},
   "source": [
    "### a- Affichage des informations sur le DataFrame \"data\",les types de données, les valeurs non nulles..."
   ]
  },
  {
   "cell_type": "code",
   "execution_count": 4,
   "id": "850f17f1-46b1-493d-9fed-32333fcff202",
   "metadata": {},
   "outputs": [
    {
     "name": "stdout",
     "output_type": "stream",
     "text": [
      "<class 'pandas.core.frame.DataFrame'>\n",
      "RangeIndex: 569 entries, 0 to 568\n",
      "Data columns (total 33 columns):\n",
      " #   Column                   Non-Null Count  Dtype  \n",
      "---  ------                   --------------  -----  \n",
      " 0   id                       569 non-null    int64  \n",
      " 1   diagnosis                569 non-null    object \n",
      " 2   radius_mean              569 non-null    float64\n",
      " 3   texture_mean             569 non-null    float64\n",
      " 4   perimeter_mean           569 non-null    float64\n",
      " 5   area_mean                569 non-null    float64\n",
      " 6   smoothness_mean          569 non-null    float64\n",
      " 7   compactness_mean         569 non-null    float64\n",
      " 8   concavity_mean           569 non-null    float64\n",
      " 9   concave points_mean      569 non-null    float64\n",
      " 10  symmetry_mean            569 non-null    float64\n",
      " 11  fractal_dimension_mean   569 non-null    float64\n",
      " 12  radius_se                569 non-null    float64\n",
      " 13  texture_se               569 non-null    float64\n",
      " 14  perimeter_se             569 non-null    float64\n",
      " 15  area_se                  569 non-null    float64\n",
      " 16  smoothness_se            569 non-null    float64\n",
      " 17  compactness_se           569 non-null    float64\n",
      " 18  concavity_se             569 non-null    float64\n",
      " 19  concave points_se        569 non-null    float64\n",
      " 20  symmetry_se              569 non-null    float64\n",
      " 21  fractal_dimension_se     569 non-null    float64\n",
      " 22  radius_worst             569 non-null    float64\n",
      " 23  texture_worst            569 non-null    float64\n",
      " 24  perimeter_worst          569 non-null    float64\n",
      " 25  area_worst               569 non-null    float64\n",
      " 26  smoothness_worst         569 non-null    float64\n",
      " 27  compactness_worst        569 non-null    float64\n",
      " 28  concavity_worst          569 non-null    float64\n",
      " 29  concave points_worst     569 non-null    float64\n",
      " 30  symmetry_worst           569 non-null    float64\n",
      " 31  fractal_dimension_worst  569 non-null    float64\n",
      " 32  Unnamed: 32              0 non-null      float64\n",
      "dtypes: float64(31), int64(1), object(1)\n",
      "memory usage: 146.8+ KB\n"
     ]
    }
   ],
   "source": [
    "data.info()"
   ]
  },
  {
   "cell_type": "markdown",
   "id": "5e783395-6c95-4163-a8da-fcf941fdb11c",
   "metadata": {},
   "source": [
    "### b- Affichage des noms des colonnes du DataFrame \"data\"."
   ]
  },
  {
   "cell_type": "code",
   "execution_count": 5,
   "id": "2a9b0bff-b531-461b-a4e2-c36e99aea56c",
   "metadata": {},
   "outputs": [
    {
     "data": {
      "text/plain": [
       "Index(['id', 'diagnosis', 'radius_mean', 'texture_mean', 'perimeter_mean',\n",
       "       'area_mean', 'smoothness_mean', 'compactness_mean', 'concavity_mean',\n",
       "       'concave points_mean', 'symmetry_mean', 'fractal_dimension_mean',\n",
       "       'radius_se', 'texture_se', 'perimeter_se', 'area_se', 'smoothness_se',\n",
       "       'compactness_se', 'concavity_se', 'concave points_se', 'symmetry_se',\n",
       "       'fractal_dimension_se', 'radius_worst', 'texture_worst',\n",
       "       'perimeter_worst', 'area_worst', 'smoothness_worst',\n",
       "       'compactness_worst', 'concavity_worst', 'concave points_worst',\n",
       "       'symmetry_worst', 'fractal_dimension_worst', 'Unnamed: 32'],\n",
       "      dtype='object')"
      ]
     },
     "execution_count": 5,
     "metadata": {},
     "output_type": "execute_result"
    }
   ],
   "source": [
    "data.columns"
   ]
  },
  {
   "cell_type": "markdown",
   "id": "814d67f0-01d8-4347-896a-1d0712f641dd",
   "metadata": {},
   "source": [
    "### c : Calculons le nombre de valeurs nulles dans chaque colonne du DataFrame \"shoes_dataset\"."
   ]
  },
  {
   "cell_type": "code",
   "execution_count": 6,
   "id": "e855d3bf-fa5a-425e-905f-38bf00619ad9",
   "metadata": {},
   "outputs": [
    {
     "data": {
      "text/plain": [
       "id                           0\n",
       "diagnosis                    0\n",
       "radius_mean                  0\n",
       "texture_mean                 0\n",
       "perimeter_mean               0\n",
       "area_mean                    0\n",
       "smoothness_mean              0\n",
       "compactness_mean             0\n",
       "concavity_mean               0\n",
       "concave points_mean          0\n",
       "symmetry_mean                0\n",
       "fractal_dimension_mean       0\n",
       "radius_se                    0\n",
       "texture_se                   0\n",
       "perimeter_se                 0\n",
       "area_se                      0\n",
       "smoothness_se                0\n",
       "compactness_se               0\n",
       "concavity_se                 0\n",
       "concave points_se            0\n",
       "symmetry_se                  0\n",
       "fractal_dimension_se         0\n",
       "radius_worst                 0\n",
       "texture_worst                0\n",
       "perimeter_worst              0\n",
       "area_worst                   0\n",
       "smoothness_worst             0\n",
       "compactness_worst            0\n",
       "concavity_worst              0\n",
       "concave points_worst         0\n",
       "symmetry_worst               0\n",
       "fractal_dimension_worst      0\n",
       "Unnamed: 32                569\n",
       "dtype: int64"
      ]
     },
     "execution_count": 6,
     "metadata": {},
     "output_type": "execute_result"
    }
   ],
   "source": [
    "data.isnull().sum()"
   ]
  },
  {
   "cell_type": "markdown",
   "id": "c4495063-0d50-4347-85cd-d0dbe07ce9bd",
   "metadata": {},
   "source": [
    "### d- Vérifions si il ya des valeurs dupliqué"
   ]
  },
  {
   "cell_type": "code",
   "execution_count": 7,
   "id": "6bc60b9b-9530-44bb-883a-84cdb925d2d3",
   "metadata": {},
   "outputs": [
    {
     "data": {
      "text/plain": [
       "0"
      ]
     },
     "execution_count": 7,
     "metadata": {},
     "output_type": "execute_result"
    }
   ],
   "source": [
    "data.duplicated().sum()"
   ]
  },
  {
   "cell_type": "markdown",
   "id": "b96b10e8-1beb-43d7-a9f0-616dca55efc2",
   "metadata": {},
   "source": [
    "### e- Normalisation des données"
   ]
  },
  {
   "cell_type": "markdown",
   "id": "edeed274-8615-43c5-a44d-00e6ccd8a4c6",
   "metadata": {},
   "source": [
    "#### ---> supprimons les deux columns Id et Unnamed: 32\n"
   ]
  },
  {
   "cell_type": "code",
   "execution_count": 8,
   "id": "97f42df6-01ac-48e9-804f-b4988ce52e90",
   "metadata": {},
   "outputs": [
    {
     "name": "stdout",
     "output_type": "stream",
     "text": [
      "<class 'pandas.core.frame.DataFrame'>\n",
      "RangeIndex: 569 entries, 0 to 568\n",
      "Data columns (total 31 columns):\n",
      " #   Column                   Non-Null Count  Dtype  \n",
      "---  ------                   --------------  -----  \n",
      " 0   diagnosis                569 non-null    object \n",
      " 1   radius_mean              569 non-null    float64\n",
      " 2   texture_mean             569 non-null    float64\n",
      " 3   perimeter_mean           569 non-null    float64\n",
      " 4   area_mean                569 non-null    float64\n",
      " 5   smoothness_mean          569 non-null    float64\n",
      " 6   compactness_mean         569 non-null    float64\n",
      " 7   concavity_mean           569 non-null    float64\n",
      " 8   concave points_mean      569 non-null    float64\n",
      " 9   symmetry_mean            569 non-null    float64\n",
      " 10  fractal_dimension_mean   569 non-null    float64\n",
      " 11  radius_se                569 non-null    float64\n",
      " 12  texture_se               569 non-null    float64\n",
      " 13  perimeter_se             569 non-null    float64\n",
      " 14  area_se                  569 non-null    float64\n",
      " 15  smoothness_se            569 non-null    float64\n",
      " 16  compactness_se           569 non-null    float64\n",
      " 17  concavity_se             569 non-null    float64\n",
      " 18  concave points_se        569 non-null    float64\n",
      " 19  symmetry_se              569 non-null    float64\n",
      " 20  fractal_dimension_se     569 non-null    float64\n",
      " 21  radius_worst             569 non-null    float64\n",
      " 22  texture_worst            569 non-null    float64\n",
      " 23  perimeter_worst          569 non-null    float64\n",
      " 24  area_worst               569 non-null    float64\n",
      " 25  smoothness_worst         569 non-null    float64\n",
      " 26  compactness_worst        569 non-null    float64\n",
      " 27  concavity_worst          569 non-null    float64\n",
      " 28  concave points_worst     569 non-null    float64\n",
      " 29  symmetry_worst           569 non-null    float64\n",
      " 30  fractal_dimension_worst  569 non-null    float64\n",
      "dtypes: float64(30), object(1)\n",
      "memory usage: 137.9+ KB\n"
     ]
    }
   ],
   "source": [
    "data = data.drop(columns=['id','Unnamed: 32'])\n",
    "data.info()"
   ]
  },
  {
   "cell_type": "markdown",
   "id": "7270bd6f-b83f-43fd-af6e-7a6c314e6ce2",
   "metadata": {},
   "source": [
    "#### ---> savoir si il y a des valeur 0 dans notre dataset"
   ]
  },
  {
   "cell_type": "code",
   "execution_count": 9,
   "id": "1102a942-e45f-4480-be83-32891d32e7f5",
   "metadata": {},
   "outputs": [
    {
     "name": "stdout",
     "output_type": "stream",
     "text": [
      "diagnosis                  False\n",
      "radius_mean                False\n",
      "texture_mean               False\n",
      "perimeter_mean             False\n",
      "area_mean                  False\n",
      "smoothness_mean            False\n",
      "compactness_mean           False\n",
      "concavity_mean              True\n",
      "concave points_mean         True\n",
      "symmetry_mean              False\n",
      "fractal_dimension_mean     False\n",
      "radius_se                  False\n",
      "texture_se                 False\n",
      "perimeter_se               False\n",
      "area_se                    False\n",
      "smoothness_se              False\n",
      "compactness_se             False\n",
      "concavity_se                True\n",
      "concave points_se           True\n",
      "symmetry_se                False\n",
      "fractal_dimension_se       False\n",
      "radius_worst               False\n",
      "texture_worst              False\n",
      "perimeter_worst            False\n",
      "area_worst                 False\n",
      "smoothness_worst           False\n",
      "compactness_worst          False\n",
      "concavity_worst             True\n",
      "concave points_worst        True\n",
      "symmetry_worst             False\n",
      "fractal_dimension_worst    False\n",
      "dtype: bool\n"
     ]
    }
   ],
   "source": [
    "zero_values = (data == 0).any()\n",
    "print(zero_values)"
   ]
  },
  {
   "cell_type": "code",
   "execution_count": 10,
   "id": "47cd709c-0d41-4a9d-aa48-fb9c5b27fb66",
   "metadata": {},
   "outputs": [],
   "source": [
    "## remplacer les valeur nuls par la moyen des valeur de la colonne concerné\n",
    "\n",
    "columns_with_zeros = ['concavity_mean', 'concave points_mean', 'concavity_se', \n",
    "                      'concave points_se', 'concavity_worst', 'concave points_worst']\n",
    "\n",
    "# Remplacer les zéros par la moyenne de chaque colonne concernée\n",
    "for column in columns_with_zeros:\n",
    "    data[column] = data[column].replace(0, data[column].mean())"
   ]
  },
  {
   "cell_type": "code",
   "execution_count": 11,
   "id": "c207ad08-2ac4-48df-bbe3-8885a7eb63db",
   "metadata": {},
   "outputs": [
    {
     "name": "stdout",
     "output_type": "stream",
     "text": [
      "diagnosis                  False\n",
      "radius_mean                False\n",
      "texture_mean               False\n",
      "perimeter_mean             False\n",
      "area_mean                  False\n",
      "smoothness_mean            False\n",
      "compactness_mean           False\n",
      "concavity_mean             False\n",
      "concave points_mean        False\n",
      "symmetry_mean              False\n",
      "fractal_dimension_mean     False\n",
      "radius_se                  False\n",
      "texture_se                 False\n",
      "perimeter_se               False\n",
      "area_se                    False\n",
      "smoothness_se              False\n",
      "compactness_se             False\n",
      "concavity_se               False\n",
      "concave points_se          False\n",
      "symmetry_se                False\n",
      "fractal_dimension_se       False\n",
      "radius_worst               False\n",
      "texture_worst              False\n",
      "perimeter_worst            False\n",
      "area_worst                 False\n",
      "smoothness_worst           False\n",
      "compactness_worst          False\n",
      "concavity_worst            False\n",
      "concave points_worst       False\n",
      "symmetry_worst             False\n",
      "fractal_dimension_worst    False\n",
      "dtype: bool\n"
     ]
    }
   ],
   "source": [
    "zero_values = (data == 0).any()\n",
    "print(zero_values)\n",
    "## et voila tous les colonne n'ont pas des valeurs nulls"
   ]
  },
  {
   "cell_type": "markdown",
   "id": "d01b9bca-96f6-4220-9b44-f567ced93e58",
   "metadata": {},
   "source": [
    "#### ---> Savoir et Visualisation le nombre de chaque tumeurs"
   ]
  },
  {
   "cell_type": "code",
   "execution_count": 12,
   "id": "665991e6-c567-4394-a0cb-943a3387e6f6",
   "metadata": {},
   "outputs": [
    {
     "data": {
      "text/html": [
       "<div>\n",
       "<style scoped>\n",
       "    .dataframe tbody tr th:only-of-type {\n",
       "        vertical-align: middle;\n",
       "    }\n",
       "\n",
       "    .dataframe tbody tr th {\n",
       "        vertical-align: top;\n",
       "    }\n",
       "\n",
       "    .dataframe thead th {\n",
       "        text-align: right;\n",
       "    }\n",
       "</style>\n",
       "<table border=\"1\" class=\"dataframe\">\n",
       "  <thead>\n",
       "    <tr style=\"text-align: right;\">\n",
       "      <th></th>\n",
       "      <th>diagnosis</th>\n",
       "      <th>count</th>\n",
       "    </tr>\n",
       "  </thead>\n",
       "  <tbody>\n",
       "    <tr>\n",
       "      <th>0</th>\n",
       "      <td>B</td>\n",
       "      <td>357</td>\n",
       "    </tr>\n",
       "    <tr>\n",
       "      <th>1</th>\n",
       "      <td>M</td>\n",
       "      <td>212</td>\n",
       "    </tr>\n",
       "  </tbody>\n",
       "</table>\n",
       "</div>"
      ],
      "text/plain": [
       "  diagnosis  count\n",
       "0         B    357\n",
       "1         M    212"
      ]
     },
     "execution_count": 12,
     "metadata": {},
     "output_type": "execute_result"
    }
   ],
   "source": [
    "## stocker les diagnosis dans un variable\n",
    "\n",
    "diagnosis = data['diagnosis'].value_counts().reset_index()\n",
    "\n",
    "diagnosis"
   ]
  },
  {
   "cell_type": "code",
   "execution_count": 13,
   "id": "ff5c9b70-e16f-424b-9352-7b96463942cb",
   "metadata": {},
   "outputs": [
    {
     "data": {
      "image/png": "[encoded data removed]",
      "text/plain": [
       "<Figure size 800x600 with 1 Axes>"
      ]
     },
     "metadata": {},
     "output_type": "display_data"
    }
   ],
   "source": [
    "plt.figure(figsize=(8, 6))\n",
    "sns.barplot(x='diagnosis', y='count', data=diagnosis, palette='viridis')\n",
    "plt.xlabel('Diagnosis')\n",
    "plt.ylabel('Count')\n",
    "plt.title('Diagnosis Counts')\n",
    "plt.show()"
   ]
  },
  {
   "cell_type": "markdown",
   "id": "8698a6e2-710b-404a-a0a7-a65d450eb6be",
   "metadata": {},
   "source": [
    "### f- Séparer et stocker les Features et Le Target dans des Variables X et Y"
   ]
  },
  {
   "cell_type": "markdown",
   "id": "c3c31e34-2dd8-4bb1-9c2c-4b966378a77a",
   "metadata": {},
   "source": [
    "### --> 30 Features stocké dans X"
   ]
  },
  {
   "cell_type": "code",
   "execution_count": 14,
   "id": "dd9db015-3b87-4bed-863a-631bb41a270c",
   "metadata": {},
   "outputs": [
    {
     "data": {
      "text/html": [
       "<div>\n",
       "<style scoped>\n",
       "    .dataframe tbody tr th:only-of-type {\n",
       "        vertical-align: middle;\n",
       "    }\n",
       "\n",
       "    .dataframe tbody tr th {\n",
       "        vertical-align: top;\n",
       "    }\n",
       "\n",
       "    .dataframe thead th {\n",
       "        text-align: right;\n",
       "    }\n",
       "</style>\n",
       "<table border=\"1\" class=\"dataframe\">\n",
       "  <thead>\n",
       "    <tr style=\"text-align: right;\">\n",
       "      <th></th>\n",
       "      <th>radius_mean</th>\n",
       "      <th>texture_mean</th>\n",
       "      <th>perimeter_mean</th>\n",
       "      <th>area_mean</th>\n",
       "      <th>smoothness_mean</th>\n",
       "      <th>compactness_mean</th>\n",
       "      <th>concavity_mean</th>\n",
       "      <th>concave points_mean</th>\n",
       "      <th>symmetry_mean</th>\n",
       "      <th>fractal_dimension_mean</th>\n",
       "      <th>...</th>\n",
       "      <th>radius_worst</th>\n",
       "      <th>texture_worst</th>\n",
       "      <th>perimeter_worst</th>\n",
       "      <th>area_worst</th>\n",
       "      <th>smoothness_worst</th>\n",
       "      <th>compactness_worst</th>\n",
       "      <th>concavity_worst</th>\n",
       "      <th>concave points_worst</th>\n",
       "      <th>symmetry_worst</th>\n",
       "      <th>fractal_dimension_worst</th>\n",
       "    </tr>\n",
       "  </thead>\n",
       "  <tbody>\n",
       "    <tr>\n",
       "      <th>0</th>\n",
       "      <td>17.99</td>\n",
       "      <td>10.38</td>\n",
       "      <td>122.80</td>\n",
       "      <td>1001.0</td>\n",
       "      <td>0.11840</td>\n",
       "      <td>0.27760</td>\n",
       "      <td>0.300100</td>\n",
       "      <td>0.147100</td>\n",
       "      <td>0.2419</td>\n",
       "      <td>0.07871</td>\n",
       "      <td>...</td>\n",
       "      <td>25.380</td>\n",
       "      <td>17.33</td>\n",
       "      <td>184.60</td>\n",
       "      <td>2019.0</td>\n",
       "      <td>0.16220</td>\n",
       "      <td>0.66560</td>\n",
       "      <td>0.711900</td>\n",
       "      <td>0.265400</td>\n",
       "      <td>0.4601</td>\n",
       "      <td>0.11890</td>\n",
       "    </tr>\n",
       "    <tr>\n",
       "      <th>1</th>\n",
       "      <td>20.57</td>\n",
       "      <td>17.77</td>\n",
       "      <td>132.90</td>\n",
       "      <td>1326.0</td>\n",
       "      <td>0.08474</td>\n",
       "      <td>0.07864</td>\n",
       "      <td>0.086900</td>\n",
       "      <td>0.070170</td>\n",
       "      <td>0.1812</td>\n",
       "      <td>0.05667</td>\n",
       "      <td>...</td>\n",
       "      <td>24.990</td>\n",
       "      <td>23.41</td>\n",
       "      <td>158.80</td>\n",
       "      <td>1956.0</td>\n",
       "      <td>0.12380</td>\n",
       "      <td>0.18660</td>\n",
       "      <td>0.241600</td>\n",
       "      <td>0.186000</td>\n",
       "      <td>0.2750</td>\n",
       "      <td>0.08902</td>\n",
       "    </tr>\n",
       "    <tr>\n",
       "      <th>2</th>\n",
       "      <td>19.69</td>\n",
       "      <td>21.25</td>\n",
       "      <td>130.00</td>\n",
       "      <td>1203.0</td>\n",
       "      <td>0.10960</td>\n",
       "      <td>0.15990</td>\n",
       "      <td>0.197400</td>\n",
       "      <td>0.127900</td>\n",
       "      <td>0.2069</td>\n",
       "      <td>0.05999</td>\n",
       "      <td>...</td>\n",
       "      <td>23.570</td>\n",
       "      <td>25.53</td>\n",
       "      <td>152.50</td>\n",
       "      <td>1709.0</td>\n",
       "      <td>0.14440</td>\n",
       "      <td>0.42450</td>\n",
       "      <td>0.450400</td>\n",
       "      <td>0.243000</td>\n",
       "      <td>0.3613</td>\n",
       "      <td>0.08758</td>\n",
       "    </tr>\n",
       "    <tr>\n",
       "      <th>3</th>\n",
       "      <td>11.42</td>\n",
       "      <td>20.38</td>\n",
       "      <td>77.58</td>\n",
       "      <td>386.1</td>\n",
       "      <td>0.14250</td>\n",
       "      <td>0.28390</td>\n",
       "      <td>0.241400</td>\n",
       "      <td>0.105200</td>\n",
       "      <td>0.2597</td>\n",
       "      <td>0.09744</td>\n",
       "      <td>...</td>\n",
       "      <td>14.910</td>\n",
       "      <td>26.50</td>\n",
       "      <td>98.87</td>\n",
       "      <td>567.7</td>\n",
       "      <td>0.20980</td>\n",
       "      <td>0.86630</td>\n",
       "      <td>0.686900</td>\n",
       "      <td>0.257500</td>\n",
       "      <td>0.6638</td>\n",
       "      <td>0.17300</td>\n",
       "    </tr>\n",
       "    <tr>\n",
       "      <th>4</th>\n",
       "      <td>20.29</td>\n",
       "      <td>14.34</td>\n",
       "      <td>135.10</td>\n",
       "      <td>1297.0</td>\n",
       "      <td>0.10030</td>\n",
       "      <td>0.13280</td>\n",
       "      <td>0.198000</td>\n",
       "      <td>0.104300</td>\n",
       "      <td>0.1809</td>\n",
       "      <td>0.05883</td>\n",
       "      <td>...</td>\n",
       "      <td>22.540</td>\n",
       "      <td>16.67</td>\n",
       "      <td>152.20</td>\n",
       "      <td>1575.0</td>\n",
       "      <td>0.13740</td>\n",
       "      <td>0.20500</td>\n",
       "      <td>0.400000</td>\n",
       "      <td>0.162500</td>\n",
       "      <td>0.2364</td>\n",
       "      <td>0.07678</td>\n",
       "    </tr>\n",
       "    <tr>\n",
       "      <th>...</th>\n",
       "      <td>...</td>\n",
       "      <td>...</td>\n",
       "      <td>...</td>\n",
       "      <td>...</td>\n",
       "      <td>...</td>\n",
       "      <td>...</td>\n",
       "      <td>...</td>\n",
       "      <td>...</td>\n",
       "      <td>...</td>\n",
       "      <td>...</td>\n",
       "      <td>...</td>\n",
       "      <td>...</td>\n",
       "      <td>...</td>\n",
       "      <td>...</td>\n",
       "      <td>...</td>\n",
       "      <td>...</td>\n",
       "      <td>...</td>\n",
       "      <td>...</td>\n",
       "      <td>...</td>\n",
       "      <td>...</td>\n",
       "      <td>...</td>\n",
       "    </tr>\n",
       "    <tr>\n",
       "      <th>564</th>\n",
       "      <td>21.56</td>\n",
       "      <td>22.39</td>\n",
       "      <td>142.00</td>\n",
       "      <td>1479.0</td>\n",
       "      <td>0.11100</td>\n",
       "      <td>0.11590</td>\n",
       "      <td>0.243900</td>\n",
       "      <td>0.138900</td>\n",
       "      <td>0.1726</td>\n",
       "      <td>0.05623</td>\n",
       "      <td>...</td>\n",
       "      <td>25.450</td>\n",
       "      <td>26.40</td>\n",
       "      <td>166.10</td>\n",
       "      <td>2027.0</td>\n",
       "      <td>0.14100</td>\n",
       "      <td>0.21130</td>\n",
       "      <td>0.410700</td>\n",
       "      <td>0.221600</td>\n",
       "      <td>0.2060</td>\n",
       "      <td>0.07115</td>\n",
       "    </tr>\n",
       "    <tr>\n",
       "      <th>565</th>\n",
       "      <td>20.13</td>\n",
       "      <td>28.25</td>\n",
       "      <td>131.20</td>\n",
       "      <td>1261.0</td>\n",
       "      <td>0.09780</td>\n",
       "      <td>0.10340</td>\n",
       "      <td>0.144000</td>\n",
       "      <td>0.097910</td>\n",
       "      <td>0.1752</td>\n",
       "      <td>0.05533</td>\n",
       "      <td>...</td>\n",
       "      <td>23.690</td>\n",
       "      <td>38.25</td>\n",
       "      <td>155.00</td>\n",
       "      <td>1731.0</td>\n",
       "      <td>0.11660</td>\n",
       "      <td>0.19220</td>\n",
       "      <td>0.321500</td>\n",
       "      <td>0.162800</td>\n",
       "      <td>0.2572</td>\n",
       "      <td>0.06637</td>\n",
       "    </tr>\n",
       "    <tr>\n",
       "      <th>566</th>\n",
       "      <td>16.60</td>\n",
       "      <td>28.08</td>\n",
       "      <td>108.30</td>\n",
       "      <td>858.1</td>\n",
       "      <td>0.08455</td>\n",
       "      <td>0.10230</td>\n",
       "      <td>0.092510</td>\n",
       "      <td>0.053020</td>\n",
       "      <td>0.1590</td>\n",
       "      <td>0.05648</td>\n",
       "      <td>...</td>\n",
       "      <td>18.980</td>\n",
       "      <td>34.12</td>\n",
       "      <td>126.70</td>\n",
       "      <td>1124.0</td>\n",
       "      <td>0.11390</td>\n",
       "      <td>0.30940</td>\n",
       "      <td>0.340300</td>\n",
       "      <td>0.141800</td>\n",
       "      <td>0.2218</td>\n",
       "      <td>0.07820</td>\n",
       "    </tr>\n",
       "    <tr>\n",
       "      <th>567</th>\n",
       "      <td>20.60</td>\n",
       "      <td>29.33</td>\n",
       "      <td>140.10</td>\n",
       "      <td>1265.0</td>\n",
       "      <td>0.11780</td>\n",
       "      <td>0.27700</td>\n",
       "      <td>0.351400</td>\n",
       "      <td>0.152000</td>\n",
       "      <td>0.2397</td>\n",
       "      <td>0.07016</td>\n",
       "      <td>...</td>\n",
       "      <td>25.740</td>\n",
       "      <td>39.42</td>\n",
       "      <td>184.60</td>\n",
       "      <td>1821.0</td>\n",
       "      <td>0.16500</td>\n",
       "      <td>0.86810</td>\n",
       "      <td>0.938700</td>\n",
       "      <td>0.265000</td>\n",
       "      <td>0.4087</td>\n",
       "      <td>0.12400</td>\n",
       "    </tr>\n",
       "    <tr>\n",
       "      <th>568</th>\n",
       "      <td>7.76</td>\n",
       "      <td>24.54</td>\n",
       "      <td>47.92</td>\n",
       "      <td>181.0</td>\n",
       "      <td>0.05263</td>\n",
       "      <td>0.04362</td>\n",
       "      <td>0.088799</td>\n",
       "      <td>0.048919</td>\n",
       "      <td>0.1587</td>\n",
       "      <td>0.05884</td>\n",
       "      <td>...</td>\n",
       "      <td>9.456</td>\n",
       "      <td>30.37</td>\n",
       "      <td>59.16</td>\n",
       "      <td>268.6</td>\n",
       "      <td>0.08996</td>\n",
       "      <td>0.06444</td>\n",
       "      <td>0.272188</td>\n",
       "      <td>0.114606</td>\n",
       "      <td>0.2871</td>\n",
       "      <td>0.07039</td>\n",
       "    </tr>\n",
       "  </tbody>\n",
       "</table>\n",
       "<p>569 rows × 30 columns</p>\n",
       "</div>"
      ],
      "text/plain": [
       "     radius_mean  texture_mean  perimeter_mean  area_mean  smoothness_mean  \\\n",
       "0          17.99         10.38          122.80     1001.0          0.11840   \n",
       "1          20.57         17.77          132.90     1326.0          0.08474   \n",
       "2          19.69         21.25          130.00     1203.0          0.10960   \n",
       "3          11.42         20.38           77.58      386.1          0.14250   \n",
       "4          20.29         14.34          135.10     1297.0          0.10030   \n",
       "..           ...           ...             ...        ...              ...   \n",
       "564        21.56         22.39          142.00     1479.0          0.11100   \n",
       "565        20.13         28.25          131.20     1261.0          0.09780   \n",
       "566        16.60         28.08          108.30      858.1          0.08455   \n",
       "567        20.60         29.33          140.10     1265.0          0.11780   \n",
       "568         7.76         24.54           47.92      181.0          0.05263   \n",
       "\n",
       "     compactness_mean  concavity_mean  concave points_mean  symmetry_mean  \\\n",
       "0             0.27760        0.300100             0.147100         0.2419   \n",
       "1             0.07864        0.086900             0.070170         0.1812   \n",
       "2             0.15990        0.197400             0.127900         0.2069   \n",
       "3             0.28390        0.241400             0.105200         0.2597   \n",
       "4             0.13280        0.198000             0.104300         0.1809   \n",
       "..                ...             ...                  ...            ...   \n",
       "564           0.11590        0.243900             0.138900         0.1726   \n",
       "565           0.10340        0.144000             0.097910         0.1752   \n",
       "566           0.10230        0.092510             0.053020         0.1590   \n",
       "567           0.27700        0.351400             0.152000         0.2397   \n",
       "568           0.04362        0.088799             0.048919         0.1587   \n",
       "\n",
       "     fractal_dimension_mean  ...  radius_worst  texture_worst  \\\n",
       "0                   0.07871  ...        25.380          17.33   \n",
       "1                   0.05667  ...        24.990          23.41   \n",
       "2                   0.05999  ...        23.570          25.53   \n",
       "3                   0.09744  ...        14.910          26.50   \n",
       "4                   0.05883  ...        22.540          16.67   \n",
       "..                      ...  ...           ...            ...   \n",
       "564                 0.05623  ...        25.450          26.40   \n",
       "565                 0.05533  ...        23.690          38.25   \n",
       "566                 0.05648  ...        18.980          34.12   \n",
       "567                 0.07016  ...        25.740          39.42   \n",
       "568                 0.05884  ...         9.456          30.37   \n",
       "\n",
       "     perimeter_worst  area_worst  smoothness_worst  compactness_worst  \\\n",
       "0             184.60      2019.0           0.16220            0.66560   \n",
       "1             158.80      1956.0           0.12380            0.18660   \n",
       "2             152.50      1709.0           0.14440            0.42450   \n",
       "3              98.87       567.7           0.20980            0.86630   \n",
       "4             152.20      1575.0           0.13740            0.20500   \n",
       "..               ...         ...               ...                ...   \n",
       "564           166.10      2027.0           0.14100            0.21130   \n",
       "565           155.00      1731.0           0.11660            0.19220   \n",
       "566           126.70      1124.0           0.11390            0.30940   \n",
       "567           184.60      1821.0           0.16500            0.86810   \n",
       "568            59.16       268.6           0.08996            0.06444   \n",
       "\n",
       "     concavity_worst  concave points_worst  symmetry_worst  \\\n",
       "0           0.711900              0.265400          0.4601   \n",
       "1           0.241600              0.186000          0.2750   \n",
       "2           0.450400              0.243000          0.3613   \n",
       "3           0.686900              0.257500          0.6638   \n",
       "4           0.400000              0.162500          0.2364   \n",
       "..               ...                   ...             ...   \n",
       "564         0.410700              0.221600          0.2060   \n",
       "565         0.321500              0.162800          0.2572   \n",
       "566         0.340300              0.141800          0.2218   \n",
       "567         0.938700              0.265000          0.4087   \n",
       "568         0.272188              0.114606          0.2871   \n",
       "\n",
       "     fractal_dimension_worst  \n",
       "0                    0.11890  \n",
       "1                    0.08902  \n",
       "2                    0.08758  \n",
       "3                    0.17300  \n",
       "4                    0.07678  \n",
       "..                       ...  \n",
       "564                  0.07115  \n",
       "565                  0.06637  \n",
       "566                  0.07820  \n",
       "567                  0.12400  \n",
       "568                  0.07039  \n",
       "\n",
       "[569 rows x 30 columns]"
      ]
     },
     "execution_count": 14,
     "metadata": {},
     "output_type": "execute_result"
    }
   ],
   "source": [
    "X = data.drop(columns='diagnosis',axis=1)\n",
    "X\n"
   ]
  },
  {
   "cell_type": "markdown",
   "id": "7e5e33bd-7cc7-4aeb-bce1-7c72faa1a41f",
   "metadata": {},
   "source": [
    "### ---> le Target diagnosis stocké dans Y"
   ]
  },
  {
   "cell_type": "code",
   "execution_count": 15,
   "id": "b62d4c73-1be1-47d9-958b-f6472b563634",
   "metadata": {},
   "outputs": [
    {
     "data": {
      "text/plain": [
       "0      1\n",
       "1      1\n",
       "2      1\n",
       "3      1\n",
       "4      1\n",
       "      ..\n",
       "564    1\n",
       "565    1\n",
       "566    1\n",
       "567    1\n",
       "568    0\n",
       "Name: diagnosis, Length: 569, dtype: int64"
      ]
     },
     "execution_count": 15,
     "metadata": {},
     "output_type": "execute_result"
    }
   ],
   "source": [
    "## ici on remplaçant les valeurs \"M\" par 1 (pour Maligne) et les valeurs \"B\" par 0 (pour Bénigne)\n",
    "data.diagnosis= [1 if i ==\"M\" else 0 for i in data.diagnosis]\n",
    "Y = data['diagnosis']\n",
    "Y\n",
    "## M = 1, B = 0\n"
   ]
  },
  {
   "cell_type": "markdown",
   "id": "d6a846cc-0bb6-44cc-9888-f1eb5c225c7c",
   "metadata": {},
   "source": [
    "## 3- Construction et Entraînement des Modèles"
   ]
  },
  {
   "cell_type": "markdown",
   "id": "e277d5d3-38af-4b80-8f2d-7a909d5124df",
   "metadata": {},
   "source": [
    "#### a- l'implémentation de l'algorithme KNN"
   ]
  },
  {
   "cell_type": "code",
   "execution_count": 16,
   "id": "e06b5b44-14fe-4e3f-8ed3-00c390a07c82",
   "metadata": {},
   "outputs": [
    {
     "data": {
      "text/html": [
       "<style>#sk-container-id-1 {color: black;background-color: white;}#sk-container-id-1 pre{padding: 0;}#sk-container-id-1 div.sk-toggleable {background-color: white;}#sk-container-id-1 label.sk-toggleable__label {cursor: pointer;display: block;width: 100%;margin-bottom: 0;padding: 0.3em;box-sizing: border-box;text-align: center;}#sk-container-id-1 label.sk-toggleable__label-arrow:before {content: \"▸\";float: left;margin-right: 0.25em;color: #696969;}#sk-container-id-1 label.sk-toggleable__label-arrow:hover:before {color: black;}#sk-container-id-1 div.sk-estimator:hover label.sk-toggleable__label-arrow:before {color: black;}#sk-container-id-1 div.sk-toggleable__content {max-height: 0;max-width: 0;overflow: hidden;text-align: left;background-color: #f0f8ff;}#sk-container-id-1 div.sk-toggleable__content pre {margin: 0.2em;color: black;border-radius: 0.25em;background-color: #f0f8ff;}#sk-container-id-1 input.sk-toggleable__control:checked~div.sk-toggleable__content {max-height: 200px;max-width: 100%;overflow: auto;}#sk-container-id-1 input.sk-toggleable__control:checked~label.sk-toggleable__label-arrow:before {content: \"▾\";}#sk-container-id-1 div.sk-estimator input.sk-toggleable__control:checked~label.sk-toggleable__label {background-color: #d4ebff;}#sk-container-id-1 div.sk-label input.sk-toggleable__control:checked~label.sk-toggleable__label {background-color: #d4ebff;}#sk-container-id-1 input.sk-hidden--visually {border: 0;clip: rect(1px 1px 1px 1px);clip: rect(1px, 1px, 1px, 1px);height: 1px;margin: -1px;overflow: hidden;padding: 0;position: absolute;width: 1px;}#sk-container-id-1 div.sk-estimator {font-family: monospace;background-color: #f0f8ff;border: 1px dotted black;border-radius: 0.25em;box-sizing: border-box;margin-bottom: 0.5em;}#sk-container-id-1 div.sk-estimator:hover {background-color: #d4ebff;}#sk-container-id-1 div.sk-parallel-item::after {content: \"\";width: 100%;border-bottom: 1px solid gray;flex-grow: 1;}#sk-container-id-1 div.sk-label:hover label.sk-toggleable__label {background-color: #d4ebff;}#sk-container-id-1 div.sk-serial::before {content: \"\";position: absolute;border-left: 1px solid gray;box-sizing: border-box;top: 0;bottom: 0;left: 50%;z-index: 0;}#sk-container-id-1 div.sk-serial {display: flex;flex-direction: column;align-items: center;background-color: white;padding-right: 0.2em;padding-left: 0.2em;position: relative;}#sk-container-id-1 div.sk-item {position: relative;z-index: 1;}#sk-container-id-1 div.sk-parallel {display: flex;align-items: stretch;justify-content: center;background-color: white;position: relative;}#sk-container-id-1 div.sk-item::before, #sk-container-id-1 div.sk-parallel-item::before {content: \"\";position: absolute;border-left: 1px solid gray;box-sizing: border-box;top: 0;bottom: 0;left: 50%;z-index: -1;}#sk-container-id-1 div.sk-parallel-item {display: flex;flex-direction: column;z-index: 1;position: relative;background-color: white;}#sk-container-id-1 div.sk-parallel-item:first-child::after {align-self: flex-end;width: 50%;}#sk-container-id-1 div.sk-parallel-item:last-child::after {align-self: flex-start;width: 50%;}#sk-container-id-1 div.sk-parallel-item:only-child::after {width: 0;}#sk-container-id-1 div.sk-dashed-wrapped {border: 1px dashed gray;margin: 0 0.4em 0.5em 0.4em;box-sizing: border-box;padding-bottom: 0.4em;background-color: white;}#sk-container-id-1 div.sk-label label {font-family: monospace;font-weight: bold;display: inline-block;line-height: 1.2em;}#sk-container-id-1 div.sk-label-container {text-align: center;}#sk-container-id-1 div.sk-container {/* jupyter's `normalize.less` sets `[hidden] { display: none; }` but bootstrap.min.css set `[hidden] { display: none !important; }` so we also need the `!important` here to be able to override the default hidden behavior on the sphinx rendered scikit-learn.org. See: https://github.com/scikit-learn/scikit-learn/issues/21755 */display: inline-block !important;position: relative;}#sk-container-id-1 div.sk-text-repr-fallback {display: none;}</style><div id=\"sk-container-id-1\" class=\"sk-top-container\"><div class=\"sk-text-repr-fallback\"><pre>KNeighborsClassifier(n_neighbors=3)</pre><b>In a Jupyter environment, please rerun this cell to show the HTML representation or trust the notebook. <br />On GitHub, the HTML representation is unable to render, please try loading this page with nbviewer.org.</b></div><div class=\"sk-container\" hidden><div class=\"sk-item\"><div class=\"sk-estimator sk-toggleable\"><input class=\"sk-toggleable__control sk-hidden--visually\" id=\"sk-estimator-id-1\" type=\"checkbox\" checked><label for=\"sk-estimator-id-1\" class=\"sk-toggleable__label sk-toggleable__label-arrow\">KNeighborsClassifier</label><div class=\"sk-toggleable__content\"><pre>KNeighborsClassifier(n_neighbors=3)</pre></div></div></div></div></div>"
      ],
      "text/plain": [
       "KNeighborsClassifier(n_neighbors=3)"
      ]
     },
     "execution_count": 16,
     "metadata": {},
     "output_type": "execute_result"
    }
   ],
   "source": [
    "#Modèle KNN\n",
    "from sklearn.model_selection import train_test_split\n",
    "X_train, X_test, y_train, y_test = train_test_split(X,Y,test_size=0.33, random_state=6)\n",
    "\n",
    "from sklearn.neighbors import KNeighborsClassifier\n",
    "clf = KNeighborsClassifier(n_neighbors=3)\n",
    "\n",
    "## l'entrainement de modèle\n",
    "clf.fit(X_train, y_train) "
   ]
  },
  {
   "cell_type": "markdown",
   "id": "4ff94476-a116-43d9-9bb1-5a2e82a5f138",
   "metadata": {},
   "source": [
    "#### b- l'implémentation de l'algorithme de classification logistique"
   ]
  },
  {
   "cell_type": "code",
   "execution_count": 17,
   "id": "52e84818-8d20-41b0-81c4-0eba8cbe8211",
   "metadata": {},
   "outputs": [
    {
     "data": {
      "text/html": [
       "<style>#sk-container-id-2 {color: black;background-color: white;}#sk-container-id-2 pre{padding: 0;}#sk-container-id-2 div.sk-toggleable {background-color: white;}#sk-container-id-2 label.sk-toggleable__label {cursor: pointer;display: block;width: 100%;margin-bottom: 0;padding: 0.3em;box-sizing: border-box;text-align: center;}#sk-container-id-2 label.sk-toggleable__label-arrow:before {content: \"▸\";float: left;margin-right: 0.25em;color: #696969;}#sk-container-id-2 label.sk-toggleable__label-arrow:hover:before {color: black;}#sk-container-id-2 div.sk-estimator:hover label.sk-toggleable__label-arrow:before {color: black;}#sk-container-id-2 div.sk-toggleable__content {max-height: 0;max-width: 0;overflow: hidden;text-align: left;background-color: #f0f8ff;}#sk-container-id-2 div.sk-toggleable__content pre {margin: 0.2em;color: black;border-radius: 0.25em;background-color: #f0f8ff;}#sk-container-id-2 input.sk-toggleable__control:checked~div.sk-toggleable__content {max-height: 200px;max-width: 100%;overflow: auto;}#sk-container-id-2 input.sk-toggleable__control:checked~label.sk-toggleable__label-arrow:before {content: \"▾\";}#sk-container-id-2 div.sk-estimator input.sk-toggleable__control:checked~label.sk-toggleable__label {background-color: #d4ebff;}#sk-container-id-2 div.sk-label input.sk-toggleable__control:checked~label.sk-toggleable__label {background-color: #d4ebff;}#sk-container-id-2 input.sk-hidden--visually {border: 0;clip: rect(1px 1px 1px 1px);clip: rect(1px, 1px, 1px, 1px);height: 1px;margin: -1px;overflow: hidden;padding: 0;position: absolute;width: 1px;}#sk-container-id-2 div.sk-estimator {font-family: monospace;background-color: #f0f8ff;border: 1px dotted black;border-radius: 0.25em;box-sizing: border-box;margin-bottom: 0.5em;}#sk-container-id-2 div.sk-estimator:hover {background-color: #d4ebff;}#sk-container-id-2 div.sk-parallel-item::after {content: \"\";width: 100%;border-bottom: 1px solid gray;flex-grow: 1;}#sk-container-id-2 div.sk-label:hover label.sk-toggleable__label {background-color: #d4ebff;}#sk-container-id-2 div.sk-serial::before {content: \"\";position: absolute;border-left: 1px solid gray;box-sizing: border-box;top: 0;bottom: 0;left: 50%;z-index: 0;}#sk-container-id-2 div.sk-serial {display: flex;flex-direction: column;align-items: center;background-color: white;padding-right: 0.2em;padding-left: 0.2em;position: relative;}#sk-container-id-2 div.sk-item {position: relative;z-index: 1;}#sk-container-id-2 div.sk-parallel {display: flex;align-items: stretch;justify-content: center;background-color: white;position: relative;}#sk-container-id-2 div.sk-item::before, #sk-container-id-2 div.sk-parallel-item::before {content: \"\";position: absolute;border-left: 1px solid gray;box-sizing: border-box;top: 0;bottom: 0;left: 50%;z-index: -1;}#sk-container-id-2 div.sk-parallel-item {display: flex;flex-direction: column;z-index: 1;position: relative;background-color: white;}#sk-container-id-2 div.sk-parallel-item:first-child::after {align-self: flex-end;width: 50%;}#sk-container-id-2 div.sk-parallel-item:last-child::after {align-self: flex-start;width: 50%;}#sk-container-id-2 div.sk-parallel-item:only-child::after {width: 0;}#sk-container-id-2 div.sk-dashed-wrapped {border: 1px dashed gray;margin: 0 0.4em 0.5em 0.4em;box-sizing: border-box;padding-bottom: 0.4em;background-color: white;}#sk-container-id-2 div.sk-label label {font-family: monospace;font-weight: bold;display: inline-block;line-height: 1.2em;}#sk-container-id-2 div.sk-label-container {text-align: center;}#sk-container-id-2 div.sk-container {/* jupyter's `normalize.less` sets `[hidden] { display: none; }` but bootstrap.min.css set `[hidden] { display: none !important; }` so we also need the `!important` here to be able to override the default hidden behavior on the sphinx rendered scikit-learn.org. See: https://github.com/scikit-learn/scikit-learn/issues/21755 */display: inline-block !important;position: relative;}#sk-container-id-2 div.sk-text-repr-fallback {display: none;}</style><div id=\"sk-container-id-2\" class=\"sk-top-container\"><div class=\"sk-text-repr-fallback\"><pre>LogisticRegression(C=10.0, random_state=0, solver=&#x27;liblinear&#x27;)</pre><b>In a Jupyter environment, please rerun this cell to show the HTML representation or trust the notebook. <br />On GitHub, the HTML representation is unable to render, please try loading this page with nbviewer.org.</b></div><div class=\"sk-container\" hidden><div class=\"sk-item\"><div class=\"sk-estimator sk-toggleable\"><input class=\"sk-toggleable__control sk-hidden--visually\" id=\"sk-estimator-id-2\" type=\"checkbox\" checked><label for=\"sk-estimator-id-2\" class=\"sk-toggleable__label sk-toggleable__label-arrow\">LogisticRegression</label><div class=\"sk-toggleable__content\"><pre>LogisticRegression(C=10.0, random_state=0, solver=&#x27;liblinear&#x27;)</pre></div></div></div></div></div>"
      ],
      "text/plain": [
       "LogisticRegression(C=10.0, random_state=0, solver='liblinear')"
      ]
     },
     "execution_count": 17,
     "metadata": {},
     "output_type": "execute_result"
    }
   ],
   "source": [
    "#Modèle de classification logistique\n",
    "from sklearn.linear_model import LogisticRegression\n",
    "\n",
    "#model trine\n",
    "model = LogisticRegression(solver='liblinear', C=10.0, random_state=0, max_iter=100)\n",
    "\n",
    "## l'entrainement de modèle\n",
    "model.fit(X, Y)"
   ]
  },
  {
   "cell_type": "markdown",
   "id": "be99966b-1de9-4566-b6f9-dea798b127b1",
   "metadata": {},
   "source": [
    "#### c- l'implémentation de l'algorithme de SVM"
   ]
  },
  {
   "cell_type": "code",
   "execution_count": 18,
   "id": "eadf7cbd-6f6e-4ada-a37e-8f0459566d9b",
   "metadata": {},
   "outputs": [
    {
     "data": {
      "text/html": [
       "<style>#sk-container-id-3 {color: black;background-color: white;}#sk-container-id-3 pre{padding: 0;}#sk-container-id-3 div.sk-toggleable {background-color: white;}#sk-container-id-3 label.sk-toggleable__label {cursor: pointer;display: block;width: 100%;margin-bottom: 0;padding: 0.3em;box-sizing: border-box;text-align: center;}#sk-container-id-3 label.sk-toggleable__label-arrow:before {content: \"▸\";float: left;margin-right: 0.25em;color: #696969;}#sk-container-id-3 label.sk-toggleable__label-arrow:hover:before {color: black;}#sk-container-id-3 div.sk-estimator:hover label.sk-toggleable__label-arrow:before {color: black;}#sk-container-id-3 div.sk-toggleable__content {max-height: 0;max-width: 0;overflow: hidden;text-align: left;background-color: #f0f8ff;}#sk-container-id-3 div.sk-toggleable__content pre {margin: 0.2em;color: black;border-radius: 0.25em;background-color: #f0f8ff;}#sk-container-id-3 input.sk-toggleable__control:checked~div.sk-toggleable__content {max-height: 200px;max-width: 100%;overflow: auto;}#sk-container-id-3 input.sk-toggleable__control:checked~label.sk-toggleable__label-arrow:before {content: \"▾\";}#sk-container-id-3 div.sk-estimator input.sk-toggleable__control:checked~label.sk-toggleable__label {background-color: #d4ebff;}#sk-container-id-3 div.sk-label input.sk-toggleable__control:checked~label.sk-toggleable__label {background-color: #d4ebff;}#sk-container-id-3 input.sk-hidden--visually {border: 0;clip: rect(1px 1px 1px 1px);clip: rect(1px, 1px, 1px, 1px);height: 1px;margin: -1px;overflow: hidden;padding: 0;position: absolute;width: 1px;}#sk-container-id-3 div.sk-estimator {font-family: monospace;background-color: #f0f8ff;border: 1px dotted black;border-radius: 0.25em;box-sizing: border-box;margin-bottom: 0.5em;}#sk-container-id-3 div.sk-estimator:hover {background-color: #d4ebff;}#sk-container-id-3 div.sk-parallel-item::after {content: \"\";width: 100%;border-bottom: 1px solid gray;flex-grow: 1;}#sk-container-id-3 div.sk-label:hover label.sk-toggleable__label {background-color: #d4ebff;}#sk-container-id-3 div.sk-serial::before {content: \"\";position: absolute;border-left: 1px solid gray;box-sizing: border-box;top: 0;bottom: 0;left: 50%;z-index: 0;}#sk-container-id-3 div.sk-serial {display: flex;flex-direction: column;align-items: center;background-color: white;padding-right: 0.2em;padding-left: 0.2em;position: relative;}#sk-container-id-3 div.sk-item {position: relative;z-index: 1;}#sk-container-id-3 div.sk-parallel {display: flex;align-items: stretch;justify-content: center;background-color: white;position: relative;}#sk-container-id-3 div.sk-item::before, #sk-container-id-3 div.sk-parallel-item::before {content: \"\";position: absolute;border-left: 1px solid gray;box-sizing: border-box;top: 0;bottom: 0;left: 50%;z-index: -1;}#sk-container-id-3 div.sk-parallel-item {display: flex;flex-direction: column;z-index: 1;position: relative;background-color: white;}#sk-container-id-3 div.sk-parallel-item:first-child::after {align-self: flex-end;width: 50%;}#sk-container-id-3 div.sk-parallel-item:last-child::after {align-self: flex-start;width: 50%;}#sk-container-id-3 div.sk-parallel-item:only-child::after {width: 0;}#sk-container-id-3 div.sk-dashed-wrapped {border: 1px dashed gray;margin: 0 0.4em 0.5em 0.4em;box-sizing: border-box;padding-bottom: 0.4em;background-color: white;}#sk-container-id-3 div.sk-label label {font-family: monospace;font-weight: bold;display: inline-block;line-height: 1.2em;}#sk-container-id-3 div.sk-label-container {text-align: center;}#sk-container-id-3 div.sk-container {/* jupyter's `normalize.less` sets `[hidden] { display: none; }` but bootstrap.min.css set `[hidden] { display: none !important; }` so we also need the `!important` here to be able to override the default hidden behavior on the sphinx rendered scikit-learn.org. See: https://github.com/scikit-learn/scikit-learn/issues/21755 */display: inline-block !important;position: relative;}#sk-container-id-3 div.sk-text-repr-fallback {display: none;}</style><div id=\"sk-container-id-3\" class=\"sk-top-container\"><div class=\"sk-text-repr-fallback\"><pre>SVC(kernel=&#x27;linear&#x27;, random_state=0)</pre><b>In a Jupyter environment, please rerun this cell to show the HTML representation or trust the notebook. <br />On GitHub, the HTML representation is unable to render, please try loading this page with nbviewer.org.</b></div><div class=\"sk-container\" hidden><div class=\"sk-item\"><div class=\"sk-estimator sk-toggleable\"><input class=\"sk-toggleable__control sk-hidden--visually\" id=\"sk-estimator-id-3\" type=\"checkbox\" checked><label for=\"sk-estimator-id-3\" class=\"sk-toggleable__label sk-toggleable__label-arrow\">SVC</label><div class=\"sk-toggleable__content\"><pre>SVC(kernel=&#x27;linear&#x27;, random_state=0)</pre></div></div></div></div></div>"
      ],
      "text/plain": [
       "SVC(kernel='linear', random_state=0)"
      ]
     },
     "execution_count": 18,
     "metadata": {},
     "output_type": "execute_result"
    }
   ],
   "source": [
    "#Modèle de SVM\n",
    "from sklearn.svm import SVC\n",
    "# Initialiser et entraîner le modèle SVM\n",
    "svm_model = SVC(kernel='linear', C=1.0, random_state=0)\n",
    "\n",
    "## l'entrainement de modèle\n",
    "svm_model.fit(X_train, y_train)"
   ]
  },
  {
   "cell_type": "markdown",
   "id": "5d87ce45-872e-44ee-b6a3-45bc6ff5fb1e",
   "metadata": {},
   "source": [
    "#### d- l'implémentation de l'algorithme des arbres de décision"
   ]
  },
  {
   "cell_type": "code",
   "execution_count": 19,
   "id": "f313e0da-b36b-4068-992a-b1d8a72448c2",
   "metadata": {},
   "outputs": [
    {
     "data": {
      "text/html": [
       "<style>#sk-container-id-4 {color: black;background-color: white;}#sk-container-id-4 pre{padding: 0;}#sk-container-id-4 div.sk-toggleable {background-color: white;}#sk-container-id-4 label.sk-toggleable__label {cursor: pointer;display: block;width: 100%;margin-bottom: 0;padding: 0.3em;box-sizing: border-box;text-align: center;}#sk-container-id-4 label.sk-toggleable__label-arrow:before {content: \"▸\";float: left;margin-right: 0.25em;color: #696969;}#sk-container-id-4 label.sk-toggleable__label-arrow:hover:before {color: black;}#sk-container-id-4 div.sk-estimator:hover label.sk-toggleable__label-arrow:before {color: black;}#sk-container-id-4 div.sk-toggleable__content {max-height: 0;max-width: 0;overflow: hidden;text-align: left;background-color: #f0f8ff;}#sk-container-id-4 div.sk-toggleable__content pre {margin: 0.2em;color: black;border-radius: 0.25em;background-color: #f0f8ff;}#sk-container-id-4 input.sk-toggleable__control:checked~div.sk-toggleable__content {max-height: 200px;max-width: 100%;overflow: auto;}#sk-container-id-4 input.sk-toggleable__control:checked~label.sk-toggleable__label-arrow:before {content: \"▾\";}#sk-container-id-4 div.sk-estimator input.sk-toggleable__control:checked~label.sk-toggleable__label {background-color: #d4ebff;}#sk-container-id-4 div.sk-label input.sk-toggleable__control:checked~label.sk-toggleable__label {background-color: #d4ebff;}#sk-container-id-4 input.sk-hidden--visually {border: 0;clip: rect(1px 1px 1px 1px);clip: rect(1px, 1px, 1px, 1px);height: 1px;margin: -1px;overflow: hidden;padding: 0;position: absolute;width: 1px;}#sk-container-id-4 div.sk-estimator {font-family: monospace;background-color: #f0f8ff;border: 1px dotted black;border-radius: 0.25em;box-sizing: border-box;margin-bottom: 0.5em;}#sk-container-id-4 div.sk-estimator:hover {background-color: #d4ebff;}#sk-container-id-4 div.sk-parallel-item::after {content: \"\";width: 100%;border-bottom: 1px solid gray;flex-grow: 1;}#sk-container-id-4 div.sk-label:hover label.sk-toggleable__label {background-color: #d4ebff;}#sk-container-id-4 div.sk-serial::before {content: \"\";position: absolute;border-left: 1px solid gray;box-sizing: border-box;top: 0;bottom: 0;left: 50%;z-index: 0;}#sk-container-id-4 div.sk-serial {display: flex;flex-direction: column;align-items: center;background-color: white;padding-right: 0.2em;padding-left: 0.2em;position: relative;}#sk-container-id-4 div.sk-item {position: relative;z-index: 1;}#sk-container-id-4 div.sk-parallel {display: flex;align-items: stretch;justify-content: center;background-color: white;position: relative;}#sk-container-id-4 div.sk-item::before, #sk-container-id-4 div.sk-parallel-item::before {content: \"\";position: absolute;border-left: 1px solid gray;box-sizing: border-box;top: 0;bottom: 0;left: 50%;z-index: -1;}#sk-container-id-4 div.sk-parallel-item {display: flex;flex-direction: column;z-index: 1;position: relative;background-color: white;}#sk-container-id-4 div.sk-parallel-item:first-child::after {align-self: flex-end;width: 50%;}#sk-container-id-4 div.sk-parallel-item:last-child::after {align-self: flex-start;width: 50%;}#sk-container-id-4 div.sk-parallel-item:only-child::after {width: 0;}#sk-container-id-4 div.sk-dashed-wrapped {border: 1px dashed gray;margin: 0 0.4em 0.5em 0.4em;box-sizing: border-box;padding-bottom: 0.4em;background-color: white;}#sk-container-id-4 div.sk-label label {font-family: monospace;font-weight: bold;display: inline-block;line-height: 1.2em;}#sk-container-id-4 div.sk-label-container {text-align: center;}#sk-container-id-4 div.sk-container {/* jupyter's `normalize.less` sets `[hidden] { display: none; }` but bootstrap.min.css set `[hidden] { display: none !important; }` so we also need the `!important` here to be able to override the default hidden behavior on the sphinx rendered scikit-learn.org. See: https://github.com/scikit-learn/scikit-learn/issues/21755 */display: inline-block !important;position: relative;}#sk-container-id-4 div.sk-text-repr-fallback {display: none;}</style><div id=\"sk-container-id-4\" class=\"sk-top-container\"><div class=\"sk-text-repr-fallback\"><pre>DecisionTreeClassifier(random_state=0)</pre><b>In a Jupyter environment, please rerun this cell to show the HTML representation or trust the notebook. <br />On GitHub, the HTML representation is unable to render, please try loading this page with nbviewer.org.</b></div><div class=\"sk-container\" hidden><div class=\"sk-item\"><div class=\"sk-estimator sk-toggleable\"><input class=\"sk-toggleable__control sk-hidden--visually\" id=\"sk-estimator-id-4\" type=\"checkbox\" checked><label for=\"sk-estimator-id-4\" class=\"sk-toggleable__label sk-toggleable__label-arrow\">DecisionTreeClassifier</label><div class=\"sk-toggleable__content\"><pre>DecisionTreeClassifier(random_state=0)</pre></div></div></div></div></div>"
      ],
      "text/plain": [
       "DecisionTreeClassifier(random_state=0)"
      ]
     },
     "execution_count": 19,
     "metadata": {},
     "output_type": "execute_result"
    }
   ],
   "source": [
    "# Modéle des arbres de décision\n",
    "from sklearn.tree import DecisionTreeClassifier\n",
    "# Initialiser et entraîner le modèle d'arbres de décision\n",
    "dt_model = DecisionTreeClassifier(random_state=0)\n",
    "\n",
    "## l'entrainement de modèle\n",
    "dt_model.fit(X_train, y_train)"
   ]
  },
  {
   "cell_type": "markdown",
   "id": "b34b9d99-e549-4f26-9b9e-cb941e72bb8c",
   "metadata": {},
   "source": [
    "## 5- Évaluation des Modèles"
   ]
  },
  {
   "cell_type": "markdown",
   "id": "dcad9d84-e8a6-4248-9175-ef44027db100",
   "metadata": {},
   "source": [
    "#### a- Évaluation des performances des modèles sur l'ensemble de test à l'aide de mesures telles que la précision, le rappel, le score F1,"
   ]
  },
  {
   "cell_type": "code",
   "execution_count": 20,
   "id": "4f304dc7-416c-433e-a0ac-bb22b691fbcf",
   "metadata": {},
   "outputs": [
    {
     "name": "stdout",
     "output_type": "stream",
     "text": [
      "KNN - Précision : 0.9630821306353221\n",
      "KNN - Rappel : 0.9627659574468085\n",
      "KNN - Score F1 : 0.9626720710687506\n",
      "\n",
      "\n",
      "Régression Logistique - Précision : 0.984477756286267\n",
      "Régression Logistique - Rappel : 0.9840425531914894\n",
      "Régression Logistique - Score F1 : 0.9840023161723218\n",
      "\n",
      "\n",
      "SVM - Précision : 0.9650522583053378\n",
      "SVM - Rappel : 0.9627659574468085\n",
      "SVM - Score F1 : 0.9625148681509454\n",
      "\n",
      "\n",
      "Arbre de décision - Précision : 0.925875447152043\n",
      "Arbre de décision - Rappel : 0.925531914893617\n",
      "Arbre de décision - Score F1 : 0.9252724743462716\n"
     ]
    }
   ],
   "source": [
    "from sklearn.metrics import precision_score, recall_score, f1_score\n",
    "\n",
    "# Prédire les classes sur l'ensemble de test pour les 3 modèles\n",
    "knn_predictions = clf.predict(X_test)\n",
    "logistic_predictions = model.predict(X_test)\n",
    "svm_predictions = svm_model.predict(X_test)\n",
    "dt_predictions = dt_model.predict(X_test)\n",
    "\n",
    "\n",
    "# Calculer les mesures de performance pour chaque modèle\n",
    "##KNN\n",
    "knn_precision = precision_score(y_test, knn_predictions, average='weighted')\n",
    "knn_recall = recall_score(y_test, knn_predictions, average='weighted')\n",
    "knn_f1 = f1_score(y_test, knn_predictions, average='weighted')\n",
    "\n",
    "##Logistic\n",
    "logistic_precision = precision_score(y_test, logistic_predictions, average='weighted')\n",
    "logistic_recall = recall_score(y_test, logistic_predictions, average='weighted')\n",
    "logistic_f1 = f1_score(y_test, logistic_predictions, average='weighted')\n",
    "\n",
    "##SVM\n",
    "svm_precision = precision_score(y_test, svm_predictions, average='weighted')\n",
    "svm_recall = recall_score(y_test, svm_predictions, average='weighted')\n",
    "svm_f1 = f1_score(y_test, svm_predictions, average='weighted')\n",
    "\n",
    "##Arbre de décision\n",
    "dt_precision = precision_score(y_test, dt_predictions, average='weighted')\n",
    "dt_recall = recall_score(y_test, dt_predictions, average='weighted')\n",
    "dt_f1 = f1_score(y_test, dt_predictions, average='weighted')\n",
    "\n",
    "# Afficher les mesures de performance\n",
    "print(\"KNN - Précision :\", knn_precision)\n",
    "print(\"KNN - Rappel :\", knn_recall)\n",
    "print(\"KNN - Score F1 :\", knn_f1)\n",
    "print(\"\\n\")\n",
    "print(\"Régression Logistique - Précision :\", logistic_precision)\n",
    "print(\"Régression Logistique - Rappel :\", logistic_recall)\n",
    "print(\"Régression Logistique - Score F1 :\", logistic_f1)\n",
    "print(\"\\n\")\n",
    "print(\"SVM - Précision :\", svm_precision)\n",
    "print(\"SVM - Rappel :\", svm_recall)\n",
    "print(\"SVM - Score F1 :\", svm_f1)\n",
    "print(\"\\n\")\n",
    "print(\"Arbre de décision - Précision :\", dt_precision)\n",
    "print(\"Arbre de décision - Rappel :\", dt_recall)\n",
    "print(\"Arbre de décision - Score F1 :\", dt_f1)"
   ]
  },
  {
   "cell_type": "markdown",
   "id": "330c7acb-50ec-4a53-9678-2e38ef6ee3f2",
   "metadata": {},
   "source": [
    "#### b- Comparaison des performances des différents modèles."
   ]
  },
  {
   "cell_type": "code",
   "execution_count": 21,
   "id": "c0643b18-cd3a-4e43-9402-ce64303f103e",
   "metadata": {},
   "outputs": [
    {
     "name": "stdout",
     "output_type": "stream",
     "text": [
      "Score de précision du modèle KNN : 0.9627659574468085\n",
      "Score de précision du modèle de régression logistique : 0.9840425531914894\n",
      "Score de précision du modèle SVM : 0.9627659574468085\n",
      "Score de précision du modèle Arbre de Décision : 0.925531914893617\n"
     ]
    },
    {
     "data": {
      "image/png": "[encoded data removed]",
      "text/plain": [
       "<Figure size 800x600 with 1 Axes>"
      ]
     },
     "metadata": {},
     "output_type": "display_data"
    }
   ],
   "source": [
    "# Calculer les scores de précision pour chaque modèle sur l'ensemble de test\n",
    "knn_score = clf.score(X_test, y_test)\n",
    "logistic_score = model.score(X_test, y_test)\n",
    "svm_score = svm_model.score(X_test, y_test)\n",
    "dt_score = dt_model.score(X_test, y_test)\n",
    "\n",
    "\n",
    "# Afficher les scores de précision\n",
    "print(\"Score de précision du modèle KNN :\", knn_score)\n",
    "print(\"Score de précision du modèle de régression logistique :\", logistic_score)\n",
    "print(\"Score de précision du modèle SVM :\", svm_score)\n",
    "print(\"Score de précision du modèle Arbre de Décision :\", dt_score)\n",
    "\n",
    "\n",
    "import matplotlib.pyplot as plt\n",
    "\n",
    "# Scores de précision pour chaque modèle\n",
    "modele_names = ['KNN', 'Régression Logistique','SVM','Arbre de décision']\n",
    "scores = [knn_score, logistic_score,svm_score,dt_score]\n",
    "\n",
    "# Création du diagramme à barres\n",
    "plt.figure(figsize=(8, 6))\n",
    "plt.bar(modele_names, scores, color=['blue', 'green','red','orange'])\n",
    "plt.xlabel('Modèle')\n",
    "plt.ylabel('Score de précision')\n",
    "plt.title('Comparaison des scores de précision entre KNN , Régression Logistique, SVM et Arbre de décision')\n",
    "plt.ylim(0.8, 1)  # Limiter l'axe y pour une meilleure visualisation\n",
    "plt.show()"
   ]
  },
  {
   "cell_type": "markdown",
   "id": "e3d1d151-2f70-426a-93d8-15906933a686",
   "metadata": {},
   "source": [
    "## 6- Interprétation des Résultats"
   ]
  },
  {
   "cell_type": "markdown",
   "id": "e47a84b5-d160-4c86-8635-ff22d8ba3e39",
   "metadata": {},
   "source": [
    "#### a- les caractéristiques qui influent le plus sur la prédiction du diagnostic du cancer du sein selon le modèles logistique."
   ]
  },
  {
   "cell_type": "code",
   "execution_count": 22,
   "id": "a6266869-88e8-49fc-a51a-68bcd3bf3254",
   "metadata": {},
   "outputs": [
    {
     "name": "stdout",
     "output_type": "stream",
     "text": [
      "Caractéristique : radius_mean, Coefficient : -3.872592833293051\n",
      "Caractéristique : concavity_worst, Coefficient : 3.0692834097414914\n",
      "Caractéristique : texture_se, Coefficient : -2.624588755215501\n",
      "Caractéristique : compactness_worst, Coefficient : 2.086055474610709\n",
      "Caractéristique : symmetry_worst, Coefficient : 1.6987096207935906\n",
      "Caractéristique : concave points_worst, Coefficient : 1.501652114074991\n",
      "Caractéristique : concavity_mean, Coefficient : 1.318368468981453\n",
      "Caractéristique : radius_worst, Coefficient : -1.2542027857411806\n",
      "Caractéristique : concave points_mean, Coefficient : 0.7800196745790251\n",
      "Caractéristique : compactness_mean, Coefficient : 0.7659966268999869\n",
      "Caractéristique : smoothness_worst, Coefficient : 0.7221002550651823\n",
      "Caractéristique : symmetry_mean, Coefficient : 0.5700514165984197\n",
      "Caractéristique : texture_worst, Coefficient : 0.5160003024017376\n",
      "Caractéristique : perimeter_mean, Coefficient : 0.43505119454500824\n",
      "Caractéristique : smoothness_mean, Coefficient : 0.3861961165918503\n",
      "Caractéristique : perimeter_se, Coefficient : 0.22064882521746684\n",
      "Caractéristique : fractal_dimension_worst, Coefficient : 0.20838412822311167\n",
      "Caractéristique : texture_mean, Coefficient : -0.20250437127848242\n",
      "Caractéristique : radius_se, Coefficient : 0.14382599758534578\n",
      "Caractéristique : compactness_se, Coefficient : -0.12870127079456162\n",
      "Caractéristique : area_se, Coefficient : 0.11108022672839298\n",
      "Caractéristique : symmetry_se, Coefficient : 0.0897227059712938\n",
      "Caractéristique : concave points_se, Coefficient : 0.08658454585909134\n",
      "Caractéristique : smoothness_se, Coefficient : 0.04431125774591411\n",
      "Caractéristique : fractal_dimension_mean, Coefficient : 0.04334361420454081\n",
      "Caractéristique : fractal_dimension_se, Coefficient : -0.03320699559891854\n",
      "Caractéristique : perimeter_worst, Coefficient : -0.03238633887268119\n",
      "Caractéristique : area_worst, Coefficient : 0.03134471910064506\n",
      "Caractéristique : concavity_se, Coefficient : -0.018410141027158187\n",
      "Caractéristique : area_mean, Coefficient : 0.0002537140526817541\n"
     ]
    }
   ],
   "source": [
    "# Afficher les coefficients attribués à chaque caractéristique\n",
    "\n",
    "coefficients = model.coef_[0]\n",
    "feature_names = data.columns[1:] \n",
    "feature_coefficients = dict(zip(feature_names, coefficients))\n",
    "sorted_coefficients = sorted(feature_coefficients.items(), key=lambda x: abs(x[1]), reverse=True)\n",
    "\n",
    "for feature, coefficient in sorted_coefficients:\n",
    "    print(f\"Caractéristique : {feature}, Coefficient : {coefficient}\")"
   ]
  },
  {
   "cell_type": "markdown",
   "id": "f3ca3c32-4c36-4529-a2d4-720621d228ca",
   "metadata": {},
   "source": [
    "#### b- les caractéristiques qui influent le plus sur la prédiction du diagnostic du cancer du sein selon le modèles SVM"
   ]
  },
  {
   "cell_type": "code",
   "execution_count": 23,
   "id": "82f2c71c-dc53-4956-9933-f0c350ae58a0",
   "metadata": {},
   "outputs": [
    {
     "name": "stdout",
     "output_type": "stream",
     "text": [
      "Caractéristique : concavity_worst, Coefficient : 1.4505913230842373\n",
      "Caractéristique : symmetry_worst, Coefficient : 0.883101562187738\n",
      "Caractéristique : compactness_worst, Coefficient : 0.633710273122514\n",
      "Caractéristique : concave points_worst, Coefficient : 0.6300127217541713\n",
      "Caractéristique : texture_se, Coefficient : -0.5303556623159814\n",
      "Caractéristique : concavity_mean, Coefficient : 0.5291353198035192\n",
      "Caractéristique : smoothness_worst, Coefficient : 0.43445362613065197\n",
      "Caractéristique : symmetry_mean, Coefficient : 0.37302765654375286\n",
      "Caractéristique : radius_mean, Coefficient : -0.34826859959437506\n",
      "Caractéristique : concave points_mean, Coefficient : 0.3340969581547045\n",
      "Caractéristique : texture_worst, Coefficient : 0.25291826288344765\n",
      "Caractéristique : smoothness_mean, Coefficient : 0.23552345298949912\n",
      "Caractéristique : perimeter_mean, Coefficient : 0.21639298402220675\n",
      "Caractéristique : radius_worst, Coefficient : 0.15034872867009597\n",
      "Caractéristique : perimeter_se, Coefficient : 0.14453921706465245\n",
      "Caractéristique : compactness_mean, Coefficient : 0.14214769081681972\n",
      "Caractéristique : texture_mean, Coefficient : -0.11689503626433861\n",
      "Caractéristique : fractal_dimension_worst, Coefficient : 0.11106699709383072\n",
      "Caractéristique : compactness_se, Coefficient : -0.09482744927528085\n",
      "Caractéristique : radius_se, Coefficient : 0.09275559128209523\n",
      "Caractéristique : smoothness_se, Coefficient : 0.04522650948370678\n",
      "Caractéristique : concave points_se, Coefficient : 0.0359324782220858\n",
      "Caractéristique : area_se, Coefficient : 0.03513216455709056\n",
      "Caractéristique : symmetry_se, Coefficient : 0.029921749842596553\n",
      "Caractéristique : fractal_dimension_mean, Coefficient : 0.027607613387727624\n",
      "Caractéristique : fractal_dimension_se, Coefficient : -0.023680638080725798\n",
      "Caractéristique : area_mean, Coefficient : -0.01805351930465804\n",
      "Caractéristique : concavity_se, Coefficient : 0.010077360843775106\n",
      "Caractéristique : perimeter_worst, Coefficient : -0.009029550253018215\n",
      "Caractéristique : area_worst, Coefficient : 0.008358595134154712\n"
     ]
    }
   ],
   "source": [
    "# Afficher les coefficients attribués à chaque caractéristique\n",
    "coefficients = svm_model.coef_[0]\n",
    "feature_names = data.columns[1:] \n",
    "feature_coefficients = dict(zip(feature_names, coefficients))\n",
    "sorted_coefficients = sorted(feature_coefficients.items(), key=lambda x: abs(x[1]), reverse=True)\n",
    "\n",
    "for feature, coefficient in sorted_coefficients:\n",
    "    print(f\"Caractéristique : {feature}, Coefficient : {coefficient}\")"
   ]
  },
  {
   "cell_type": "markdown",
   "id": "f2c0a9f9-8a3e-448f-861f-256382d65160",
   "metadata": {},
   "source": [
    "#### c-  Visualisation des caractéristiques les plus importantes pour la classification des tumeurs"
   ]
  },
  {
   "cell_type": "code",
   "execution_count": 29,
   "id": "25bee594-2a2a-47d5-927d-b4aed577c7cf",
   "metadata": {},
   "outputs": [
    {
     "data": {
      "image/png": "[encoded data removed]",
      "text/plain": [
       "<Figure size 800x950 with 1 Axes>"
      ]
     },
     "metadata": {},
     "output_type": "display_data"
    }
   ],
   "source": [
    "import shap\n",
    "# Initialiser l'explainer SHAP avec le modèle\n",
    "explainer = shap.Explainer(model, X)\n",
    "\n",
    "# Calculer les valeurs SHAP pour l'ensemble des données\n",
    "shap_values = explainer.shap_values(X)\n",
    "\n",
    "# Tracer le summary plot SHAP\n",
    "shap.summary_plot(shap_values, X, feature_names=data.columns[1:], plot_type='bar')"
   ]
  },
  {
   "cell_type": "code",
   "execution_count": 30,
   "id": "0b16bf63-a4b4-4900-8ece-ba0b05905a7b",
   "metadata": {},
   "outputs": [
    {
     "data": {
      "text/plain": [
       "['knn_model.pkl']"
      ]
     },
     "execution_count": 30,
     "metadata": {},
     "output_type": "execute_result"
    }
   ],
   "source": [
    "from joblib import dump\n",
    "\n",
    "# Save each model to a separate file\n",
    "dump(clf, 'knn_model.pkl')"
   ]
  },
  {
   "cell_type": "code",
   "execution_count": 31,
   "id": "c8c60395-a7f0-4be7-bdf0-0071b7ecc690",
   "metadata": {},
   "outputs": [],
   "source": [
    "from joblib import load\n",
    "\n",
    "# Load each model from its respective file\n",
    "loaded_knn_model = load('knn_model.pkl')"
   ]
  },
  {
   "cell_type": "code",
   "execution_count": 32,
   "id": "fed5ae06-a980-4285-91fa-0a868ebe24af",
   "metadata": {},
   "outputs": [
    {
     "data": {
      "text/plain": [
       "array([1, 1, 0, 0, 1, 0, 0, 1, 0, 0, 0, 0, 0, 0, 1, 1, 1, 1, 0, 1, 0, 0,\n",
       "       1, 1, 1, 0, 0, 1, 1, 1, 1, 0, 0, 1, 0, 0, 0, 0, 0, 0, 1, 0, 1, 0,\n",
       "       0, 1, 0, 1, 0, 1, 1, 1, 0, 0, 1, 1, 1, 1, 0, 1, 1, 0, 0, 1, 0, 1,\n",
       "       0, 0, 1, 1, 0, 1, 0, 0, 1, 0, 0, 1, 0, 1, 0, 1, 1, 1, 0, 1, 0, 1,\n",
       "       0, 1, 0, 1, 0, 0, 1, 0, 1, 1, 1, 1, 0, 0, 1, 0, 1, 0, 0, 0, 0, 0,\n",
       "       1, 1, 1, 0, 0, 0, 0, 1, 0, 1, 0, 0, 0, 0, 0, 0, 0, 0, 0, 0, 1, 0,\n",
       "       1, 0, 0, 1, 1, 0, 0, 0, 0, 1, 1, 0, 1, 0, 0, 1, 0, 0, 1, 0, 0, 0,\n",
       "       0, 0, 0, 1, 1, 0, 0, 1, 0, 1, 0, 0, 0, 1, 0, 0, 0, 1, 0, 1, 1, 0,\n",
       "       1, 0, 0, 0, 0, 0, 0, 1, 1, 0, 1, 0], dtype=int64)"
      ]
     },
     "execution_count": 32,
     "metadata": {},
     "output_type": "execute_result"
    }
   ],
   "source": [
    "loaded_predictions = loaded_knn_model.predict(X_test)\n",
    "loaded_predictions"
   ]
  }
 ],
 "metadata": {
  "kernelspec": {
   "display_name": "Python 3 (ipykernel)",
   "language": "python",
   "name": "python3"
  },
  "language_info": {
   "codemirror_mode": {
    "name": "ipython",
    "version": 3
   },
   "file_extension": ".py",
   "mimetype": "text/x-python",
   "name": "python",
   "nbconvert_exporter": "python",
   "pygments_lexer": "ipython3",
   "version": "3.11.7"
  }
 },
 "nbformat": 4,
 "nbformat_minor": 5
}
